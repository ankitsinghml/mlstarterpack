{
 "cells": [
  {
   "cell_type": "code",
   "execution_count": 27,
   "id": "1bf2bef5",
   "metadata": {
    "scrolled": true
   },
   "outputs": [
    {
     "name": "stdout",
     "output_type": "stream",
     "text": [
      "\n",
      "* \n",
      "* * \n",
      "* * * \n",
      "* * * * \n",
      "* * * * * \n",
      "* * * * \n",
      "* * * \n",
      "* * \n",
      "* \n",
      "\n"
     ]
    }
   ],
   "source": [
    "for i in range(5+1):\n",
    "    print('* '*i) \n",
    "for j in (range(5))[::-1]:\n",
    "    print('* '*j)"
   ]
  },
  {
   "cell_type": "code",
   "execution_count": 32,
   "id": "4274735b",
   "metadata": {},
   "outputs": [
    {
     "name": "stdout",
     "output_type": "stream",
     "text": [
      "     \n",
      "    * \n",
      "   * * \n",
      "  * * * \n",
      " * * * * \n",
      "* * * * * \n",
      " * * * * \n",
      "  * * * \n",
      "   * * \n",
      "    * \n",
      "     \n"
     ]
    }
   ],
   "source": [
    "a = 5\n",
    "for i in range(a+1):\n",
    "    print(' '*(a-i), end ='')\n",
    "    print('* '*i)\n",
    "for i in range(a)[::-1]:\n",
    "    print(' '*(a-i), end ='')\n",
    "    print('* '*i)"
   ]
  },
  {
   "cell_type": "code",
   "execution_count": 35,
   "id": "a0705de9",
   "metadata": {},
   "outputs": [],
   "source": [
    "l = [[1,2,4,4,3,2,1,1],[2,2,2,1,1,3,4,5],[3,3,3,2,2,4,4,5,6,7,7]]"
   ]
  },
  {
   "cell_type": "code",
   "execution_count": 37,
   "id": "7f0843b3",
   "metadata": {
    "scrolled": true
   },
   "outputs": [
    {
     "name": "stdout",
     "output_type": "stream",
     "text": [
      "This is for list no.1\n",
      "Occurance of 1 is 3\n",
      "Occurance of 2 is 2\n",
      "Occurance of 4 is 2\n",
      "\n",
      "This is for list no.2\n",
      "Occurance of 2 is 3\n",
      "Occurance of 1 is 2\n",
      "\n",
      "This is for list no.3\n",
      "Occurance of 3 is 3\n",
      "Occurance of 2 is 2\n",
      "Occurance of 4 is 2\n",
      "Occurance of 7 is 2\n",
      "\n"
     ]
    }
   ],
   "source": [
    "for lst in l:\n",
    "    \n",
    "    nums = ''\n",
    "    print('This is for list no.{}'.format(l.index(lst)+1))\n",
    "    for i in lst:\n",
    "        occ = 0\n",
    "        \n",
    "        if not str(i) in nums:\n",
    "            #for j in lst:\n",
    "            #   if j == i: occ+=1\n",
    "            occ = lst.count(i)\n",
    "            if occ>1: print('Occurance of {} is {}'.format(i, occ))\n",
    "            nums = nums + str(i)\n",
    "    print('')\n",
    "     \n",
    "    "
   ]
  },
  {
   "cell_type": "markdown",
   "id": "581bc327",
   "metadata": {},
   "source": [
    "Palindrome"
   ]
  },
  {
   "cell_type": "code",
   "execution_count": 63,
   "id": "3841c48a",
   "metadata": {},
   "outputs": [
    {
     "name": "stdout",
     "output_type": "stream",
     "text": [
      "aavaa\n"
     ]
    }
   ],
   "source": [
    "a = 'aavaa'\n",
    "rev = ''\n",
    "i=1\n",
    "while i <= len(a):\n",
    "    rev = a[i-1] + rev\n",
    "    i+=1\n",
    "print(rev)"
   ]
  },
  {
   "cell_type": "code",
   "execution_count": 1,
   "id": "16591596",
   "metadata": {},
   "outputs": [
    {
     "data": {
      "text/plain": [
       "True"
      ]
     },
     "execution_count": 1,
     "metadata": {},
     "output_type": "execute_result"
    }
   ],
   "source": [
    "'aavaa'=='aavaa'[::-1]"
   ]
  },
  {
   "cell_type": "code",
   "execution_count": 101,
   "id": "a2ec0cf0",
   "metadata": {},
   "outputs": [
    {
     "name": "stdout",
     "output_type": "stream",
     "text": [
      "110 121\n"
     ]
    }
   ],
   "source": [
    "even = []\n",
    "odd = []\n",
    "i = 0\n",
    "while len(odd) <= 10 and len(even) <= 10:\n",
    "    i+=1\n",
    "    if i%2==0: even.append(i)\n",
    "    else: odd.append(i)\n",
    "#print(even, odd)\n",
    "\n",
    "even_total = 0\n",
    "odd_total = 0\n",
    "for i in even:\n",
    "    even_total = even_total + i\n",
    "for i in odd:\n",
    "    odd_total = odd_total + i\n",
    "print(even_total,odd_total) "
   ]
  },
  {
   "cell_type": "code",
   "execution_count": 17,
   "id": "f7343be7",
   "metadata": {},
   "outputs": [
    {
     "name": "stdout",
     "output_type": "stream",
     "text": [
      "['a', 'b', 'c', 'd', 'e', 'f', 'g', 'h', 'i', 'j', 'k', 'l', 'm', 'n', 'o', 'p', 'q', 'r', 's', 't', 'u', 'v', 'w', 'x', 'y', 'z']\n"
     ]
    }
   ],
   "source": [
    "import string\n",
    "alphabet_string = list(string.ascii_lowercase)\n",
    "print(alphabet_string)"
   ]
  },
  {
   "cell_type": "code",
   "execution_count": 22,
   "id": "e09e664f",
   "metadata": {},
   "outputs": [
    {
     "data": {
      "text/plain": [
       "{'a': 'ineur', 'n': 'ineur', 'k': 'ineur', 'i': 'ineur', 't': 'ineur'}"
      ]
     },
     "execution_count": 22,
     "metadata": {},
     "output_type": "execute_result"
    }
   ],
   "source": [
    "s = 'ankit'\n",
    "d = {}\n",
    "{i:'ineur' for i in s}"
   ]
  },
  {
   "cell_type": "code",
   "execution_count": 9,
   "id": "032999ce",
   "metadata": {},
   "outputs": [],
   "source": [
    "d = {'f':10, 'ineuron':{'a':23,'b':34,'c':56},'course':{'d':45,'e':12}}"
   ]
  },
  {
   "cell_type": "code",
   "execution_count": 4,
   "id": "551a7678",
   "metadata": {},
   "outputs": [
    {
     "name": "stdout",
     "output_type": "stream",
     "text": [
      "56\n"
     ]
    }
   ],
   "source": [
    "max = 0\n",
    "for i in d:\n",
    "    if type(d[i])==dict:\n",
    "        for j in d[i]:\n",
    "            if (d[i][j])>max: max=d[i][j]\n",
    "    elif d[i]>max: max=d[i]\n",
    "print(max)"
   ]
  },
  {
   "cell_type": "code",
   "execution_count": null,
   "id": "4e919dde",
   "metadata": {},
   "outputs": [],
   "source": [
    "above will fail in case of nester loops/dictionaries, improved solution below"
   ]
  },
  {
   "cell_type": "code",
   "execution_count": 3,
   "id": "3258b8dd",
   "metadata": {
    "scrolled": true
   },
   "outputs": [
    {
     "name": "stdout",
     "output_type": "stream",
     "text": [
      "568\n"
     ]
    }
   ],
   "source": [
    "d = {'f':10, 'ineuron':{'a':23,'b':34,'c':{'a':23,'b':34,'c':{'a':23,'b':34,'c':568}}},'course':{'d':45,'e':12}, 'g':True}\n",
    "max = 0\n",
    "def max_number(dic, max_num):\n",
    "\n",
    "    for i in dic.values():\n",
    "        if type(i)==int or type(i)==float: \n",
    "            if i>max_num: max_num=i\n",
    "        elif type(i)==list or type(i)==tuple:\n",
    "            continue\n",
    "        elif type(i)==dict:\n",
    "            max_num = max_number(i, max_num)\n",
    "        else: continue\n",
    "    #print(max_num)\n",
    "    return max_num\n",
    "            \n",
    "\n",
    "print(max_number(d, max))\n"
   ]
  },
  {
   "cell_type": "code",
   "execution_count": 54,
   "id": "2489ff3f",
   "metadata": {},
   "outputs": [
    {
     "name": "stdout",
     "output_type": "stream",
     "text": [
      "not a prime\n"
     ]
    }
   ],
   "source": [
    "a = 12\n",
    "for i in range(2,a):\n",
    "    if a%i==0: \n",
    "        print('not a prime')\n",
    "        break\n",
    "else: print('prime')"
   ]
  },
  {
   "cell_type": "code",
   "execution_count": 52,
   "id": "143b1e4c",
   "metadata": {},
   "outputs": [
    {
     "name": "stdout",
     "output_type": "stream",
     "text": [
      "('a', 1)\n",
      "('b', 2)\n"
     ]
    }
   ],
   "source": [
    "dic = {'a':1,'b':2}\n",
    "for i in dic.items():\n",
    "    print(i)"
   ]
  },
  {
   "cell_type": "code",
   "execution_count": 111,
   "id": "99acd512",
   "metadata": {},
   "outputs": [],
   "source": [
    "\n",
    "def fibo(n):\n",
    "    ser=[1,1]\n",
    "    for i in range(n-2):\n",
    "        print(ser)\n",
    "        yield ser.append(ser[-1]+ser[-2])"
   ]
  },
  {
   "cell_type": "code",
   "execution_count": 112,
   "id": "cd17770c",
   "metadata": {},
   "outputs": [],
   "source": [
    "a=iter(fibo(4))"
   ]
  },
  {
   "cell_type": "code",
   "execution_count": 113,
   "id": "04535670",
   "metadata": {},
   "outputs": [
    {
     "name": "stdout",
     "output_type": "stream",
     "text": [
      "[1, 1]\n",
      "None\n"
     ]
    }
   ],
   "source": [
    "print(next(a))"
   ]
  },
  {
   "cell_type": "code",
   "execution_count": 8,
   "id": "3cb4b577",
   "metadata": {},
   "outputs": [
    {
     "name": "stdout",
     "output_type": "stream",
     "text": [
      "[False, True, False, True, False, True, False, True, False, False, True, False, True, False]\n"
     ]
    }
   ],
   "source": [
    "nums = [1,2,3,4,5,6,7,8,9,11,22,33,44,55]\n",
    "\n",
    "a = list(map(lambda n:n%2==0,nums))\n",
    "print(a)"
   ]
  },
  {
   "cell_type": "code",
   "execution_count": 6,
   "id": "3e601ab8",
   "metadata": {},
   "outputs": [
    {
     "name": "stdout",
     "output_type": "stream",
     "text": [
      "test\n",
      "2\n",
      "2\n",
      "0\n",
      "2\n"
     ]
    }
   ],
   "source": [
    "class comp ():\n",
    "    \n",
    "    wheels = 2\n",
    "    \n",
    "    def __init__(self):\n",
    "        print('test')\n",
    "        \n",
    "c1 = comp()\n",
    "print(c1.wheels)\n",
    "print(comp.wheels)\n",
    "\n",
    "c1.wheels = 0\n",
    "\n",
    "print(c1.wheels)\n",
    "print(comp.wheels)"
   ]
  },
  {
   "cell_type": "markdown",
   "id": "f5f967f4",
   "metadata": {},
   "source": [
    "above denotes that init is called as soon as it is initialised without even calling a method."
   ]
  },
  {
   "cell_type": "code",
   "execution_count": null,
   "id": "312a1434",
   "metadata": {},
   "outputs": [],
   "source": []
  }
 ],
 "metadata": {
  "kernelspec": {
   "display_name": "Python 3",
   "language": "python",
   "name": "python3"
  },
  "language_info": {
   "codemirror_mode": {
    "name": "ipython",
    "version": 3
   },
   "file_extension": ".py",
   "mimetype": "text/x-python",
   "name": "python",
   "nbconvert_exporter": "python",
   "pygments_lexer": "ipython3",
   "version": "3.8.8"
  }
 },
 "nbformat": 4,
 "nbformat_minor": 5
}
